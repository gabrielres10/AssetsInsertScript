{
  "cells": [
    {
      "cell_type": "code",
      "execution_count": 1,
      "metadata": {
        "id": "vq5QXVTKqfn5"
      },
      "outputs": [],
      "source": [
        "# Imports para crear script\n",
        "\n",
        "import pandas as pd\n",
        "from datetime import datetime\n",
        "import json\n",
        "\n",
        "from sqlalchemy import create_engine\n",
        "import os\n",
        "from dotenv import load_dotenv"
      ]
    },
    {
      "cell_type": "code",
      "execution_count": 2,
      "metadata": {},
      "outputs": [],
      "source": [
        "# Declare file locations\n",
        "input_excel = 'input/InventarioLast.xlsx'\n",
        "input_email = \"input/email_inserts.sql\"\n",
        "input_assets_ddl = \"input/assets_ddl.sql\"\n",
        "output_sql_inserts = 'output/AssetsInserts.sql'"
      ]
    },
    {
      "cell_type": "code",
      "execution_count": 3,
      "metadata": {
        "colab": {
          "base_uri": "https://localhost:8080/"
        },
        "id": "wh6zgxpfGgv3",
        "outputId": "7bc41e30-cdda-48fc-e3ba-b5ca6ed78440"
      },
      "outputs": [],
      "source": [
        "df = pd.read_excel(input_excel, skiprows=6, usecols='B:Z')\n",
        "# Inicialización\n",
        "lista = [pd.DataFrame(), pd.DataFrame(), pd.DataFrame()]  # 0: Equipos, 1: Software, 2: Accesorios\n",
        "\n",
        "# Columnas por tipo\n",
        "lista_equipos = ['PLACA', 'SUBTIPO', 'MARCA', 'MODELO', 'PANTALLA', 'PROCESADOR',\n",
        "                'GENERACIÓN', 'MEMORIA', 'DISCO DURO', 'SERIAL FISICO', 'OBSERVACIONES',\n",
        "                'SERIAL BOARD', 'ESTADO', 'UBICACIÓN', 'ASIGNADO A', 'ACTA DE ENTREGA',\n",
        "                'Canon', 'SISTEMA OPERATIVO', 'MOVIMIENTO', 'Comprado a', 'Factura #',\n",
        "                'Nuevo / Usado', 'Garantia', 'Fecha Compra', 'Fecha Fin']\n",
        "\n",
        "lista_software = ['SUBTIPO', 'MARCA', 'MODELO', 'ESTADO', 'UBICACIÓN', 'ASIGNADO A',\n",
        "                  'ACTA DE ENTREGA', 'Canon', 'MOVIMIENTO']\n",
        "\n",
        "lista_accesorios = ['PLACA', 'SUBTIPO', 'MARCA', 'MODELO', 'SERIAL FISICO', 'OBSERVACIONES',\n",
        "                    'ESTADO', 'UBICACIÓN', 'ASIGNADO A', 'ACTA DE ENTREGA', 'Canon',\n",
        "                    'MOVIMIENTO', 'Comprado a', 'Factura #', 'Nuevo / Usado', 'Garantia',\n",
        "                    'Fecha Compra']\n",
        "\n",
        "# Variable que rastrea en qué sección estamos\n",
        "seccion_actual = 0  # 0 = equipos, 1 = software, 2 = accesorios\n",
        "\n",
        "# Recorremos el DataFrame fila por fila\n",
        "for idx, fila in df.iterrows():\n",
        "    placa = str(fila['PLACA']).strip()\n",
        "\n",
        "    # Cambiar de sección si encontramos un encabezado\n",
        "    if placa.lower() == 'software':\n",
        "        seccion_actual = 1\n",
        "        continue  # no agregamos esta fila\n",
        "    elif placa.lower() == 'accesorios':\n",
        "        seccion_actual = 2\n",
        "        continue  # no agregamos esta fila\n",
        "    elif placa.lower() == '':  # si la placa está vacía, probablemente fila vacía\n",
        "        continue\n",
        "    elif placa.lower() == 'nomenclatura':\n",
        "        break\n",
        "\n",
        "    # Definir columnas según la sección\n",
        "    if seccion_actual == 0:\n",
        "        columnas = lista_equipos\n",
        "    elif seccion_actual == 1:\n",
        "        columnas = lista_software\n",
        "    else:\n",
        "        columnas = lista_accesorios\n",
        "\n",
        "    # Agregamos solo la fila actual, con las columnas correspondientes\n",
        "    lista[seccion_actual] = pd.concat([lista[seccion_actual], fila[columnas].to_frame().T], ignore_index=True)"
      ]
    },
    {
      "cell_type": "code",
      "execution_count": 4,
      "metadata": {
        "id": "zsa0EbzTa4Lz"
      },
      "outputs": [],
      "source": [
        "# General auxiliar functions\n",
        "import re\n",
        "import numpy as np\n",
        "import unicodedata\n",
        "\n",
        "def quitar_tildes(texto):\n",
        "    if isinstance(texto, str):\n",
        "        return ''.join(\n",
        "            c for c in unicodedata.normalize('NFD', texto)\n",
        "            if unicodedata.category(c) != 'Mn'\n",
        "        )\n",
        "    return texto\n",
        "\n",
        "def normalize_dataframe(df):\n",
        "    df.columns = [quitar_tildes(col) for col in df.columns]\n",
        "    for col in df.select_dtypes(include=[\"object\", \"string\"]):\n",
        "        df[col] = df[col].map(quitar_tildes)\n",
        "    return df\n",
        "\n",
        "def to_uppercase_all(df):\n",
        "    df_upper = df.copy()\n",
        "\n",
        "    # Convertir columnas de texto a mayúsculas\n",
        "    for col in df_upper.columns:\n",
        "        if df_upper[col].dtype == object or df_upper[col].dtype.name == 'category':\n",
        "            df_upper[col] = df_upper[col].astype(str).str.upper()\n",
        "\n",
        "    # Convertir nombres de columnas a mayúsculas\n",
        "    df_upper.columns = [col.upper() for col in df_upper.columns]\n",
        "\n",
        "    return df_upper\n",
        "\n",
        "def clean_spaces(df):\n",
        "    df_clean = df.copy()\n",
        "    for col in df_clean.columns:\n",
        "        if df_clean[col].dtype == object or df_clean[col].dtype.name == 'category':\n",
        "            df_clean[col] = df_clean[col].astype(str).apply(lambda x: re.sub(r'\\s+', ' ', x.strip()))\n",
        "    return df_clean\n",
        "\n",
        "\n",
        "def format_df(df):\n",
        "  df_out = to_uppercase_all(df)\n",
        "  df_out = clean_spaces(df_out)\n",
        "  df_out = df_out.replace(\"NAN\", np.nan)\n",
        "  df_out = df_out.dropna(how='all')\n",
        "  return df_out\n",
        "\n",
        "def equipos_preprocessing(equipos):\n",
        "    equipos[\"DISCO DURO\"] = equipos[\"DISCO DURO\"].replace({\"250 GB\":\"250GB\", \"1 TB\": \"1TB\"})\n",
        "    equipos[\"GARANTIA\"] = equipos[\"GARANTIA\"].replace({\"12 MESS\": \"12 MESES\"})\n",
        "    equipos[\"NUEVO / USADO\"] = equipos[\"NUEVO / USADO\"].replace({\"USADA\": \"USADO\", \"USADI\": \"USADO\", np.nan: \"USADO\"})\n",
        "    equipos\n",
        "    \n",
        "    equipos = equipos.rename(columns={\"COMPRADO A\": \"PROVEEDOR\"})\n",
        "\n",
        "    return equipos\n",
        "\n",
        "def accesorios_preprocessing(accesorios):\n",
        "  accesorios[\"NUEVO / USADO\"] = accesorios[\"NUEVO / USADO\"].replace({\"NUEVA\": \"NUEVO\", np.nan: \"USADO\"})\n",
        "  return accesorios\n",
        "\n",
        "def software_preprocessing(software):\n",
        "  return software"
      ]
    },
    {
      "cell_type": "code",
      "execution_count": 5,
      "metadata": {},
      "outputs": [
        {
          "name": "stderr",
          "output_type": "stream",
          "text": [
            "/tmp/ipykernel_2265/3340632672.py:44: FutureWarning: Downcasting behavior in `replace` is deprecated and will be removed in a future version. To retain the old behavior, explicitly call `result.infer_objects(copy=False)`. To opt-in to the future behavior, set `pd.set_option('future.no_silent_downcasting', True)`\n",
            "  df_out = df_out.replace(\"NAN\", np.nan)\n"
          ]
        }
      ],
      "source": [
        "EQUIPOS = format_df(lista[0])\n",
        "#SOFTWARE = format_df(lista[1])\n",
        "#ACCESORIOS = format_df(lista[2])\n",
        "\n",
        "equipos = equipos_preprocessing(EQUIPOS)\n",
        "#accesorios = accesorios_preprocessing(ACCESORIOS)\n",
        "#software = software_preprocessing(SOFTWARE)\n",
        "\n",
        "#accesorios = normalize_dataframe(accesorios.astype(object))\n",
        "#software = normalize_dataframe(software.astype(object))\n",
        "equipos = normalize_dataframe(equipos.astype(object))\n"
      ]
    },
    {
      "cell_type": "markdown",
      "metadata": {
        "id": "f8x78_bJkJyP"
      },
      "source": [
        "## Creación de script de inserts para Equipos"
      ]
    },
    {
      "cell_type": "markdown",
      "metadata": {},
      "source": [
        "### Conexión a la base de datos de Procytec"
      ]
    },
    {
      "cell_type": "code",
      "execution_count": 6,
      "metadata": {},
      "outputs": [],
      "source": [
        "load_dotenv()\n",
        "\n",
        "DB_HOST = os.getenv(\"DB_HOST\")\n",
        "DB_PORT = os.getenv(\"DB_PORT\")\n",
        "DB_NAME = os.getenv(\"DB_NAME\")\n",
        "DB_USER = os.getenv(\"DB_USER\")\n",
        "DB_PASSWORD = os.getenv(\"DB_PASSWORD\")\n",
        "\n",
        "# Crear conexión con SQLAlchemy\n",
        "engine = create_engine(f\"postgresql+psycopg2://{DB_USER}:{DB_PASSWORD}@{DB_HOST}:{DB_PORT}/{DB_NAME}\")\n",
        "\n",
        "clients: pd.DataFrame = pd.read_sql(\"SELECT vc.* FROM vista_customers vc WHERE vc.codigo_cliente != 0;\", engine)"
      ]
    },
    {
      "cell_type": "markdown",
      "metadata": {
        "id": "qFi74QzXo_Ox"
      },
      "source": [
        "### Funciones y variables de apoyo para inserts"
      ]
    },
    {
      "cell_type": "code",
      "execution_count": 7,
      "metadata": {
        "id": "2ptQMkJWpGUn"
      },
      "outputs": [],
      "source": [
        "def convert_to_string(val) -> str:\n",
        "    if pd.isna(val) or str(val).strip() == \"\":\n",
        "        return \"NULL\"\n",
        "    return \"'\" + str(val).replace(\"'\", \"''\") + \"'\"\n",
        "\n",
        "def format_date(fecha_raw: str) -> str:\n",
        "  try:\n",
        "    fecha_dt = pd.to_datetime(fecha_raw, dayfirst=True, errors='coerce')\n",
        "    fecha_val = f\"'{fecha_dt.date().isoformat()}'\" if not pd.isna(fecha_dt) else \"NULL\"\n",
        "  except:\n",
        "    fecha_val = \"NULL\"\n",
        "\n",
        "  return fecha_val\n",
        "\n",
        "def obtener_tipo_servicio(acta_id: str) -> str:\n",
        "  if pd.isna(acta_id) or str(acta_id).strip() == \"\":\n",
        "    return \"NULL\"\n",
        "  acta_id = str(acta_id).strip().upper()\n",
        "  if acta_id.startswith(\"A\"):\n",
        "    return \"'ARRENDAMIENTO'\"\n",
        "  elif acta_id.startswith(\"Y\"):\n",
        "    return \"'IMPRESION'\"\n",
        "  elif acta_id.startswith(\"P\"):\n",
        "    return \"'PRESTAMO'\"\n",
        "  else:\n",
        "    return \"'OTRO'\"\n",
        "\n",
        "def extraer_codigo_cliente(acta: str) -> str:\n",
        "    if pd.isna(acta) or str(acta).strip() == \"\":\n",
        "        return \"NULL\"\n",
        "    acta = str(acta).strip().upper()\n",
        "    match = re.search(r'^[A-Z]([0-9]+)-', acta)\n",
        "    if match:\n",
        "        return match.group(1)\n",
        "    return \"NULL\"\n",
        "\n",
        "def safe_int(value, default=None):\n",
        "    try:\n",
        "        return int(value)\n",
        "    except (ValueError, TypeError):\n",
        "        return default\n",
        "\n",
        "# Definición de constantes \"ARRENDADO\", \"PRESTADO\", \"STOCK-PENDIENTE\"\n",
        "\n",
        "SUBESTADOS_ACTIVOS = [\"ASIGNADO\", \"PEND. DEV. CLIENTE\", \"REPARACION\", \"STOCK\", \"REVISION\", \"PEND. X REPUESTO\", \"ACONDICIONAMIENTO\", \"GARANTIA\"]\n",
        "SUBESTADOS_OBSOLETOS = [\"VENTA\", \"DONACION\", \"DAÑO\"]\n",
        "SUBESTADOS_RETIRADOS = [\"BASURA ELECTRONICA\", \"VENDIDO\", \"ROBADO\", \"PERDIDO\", \"EXTRAER REPUESTOS\"]\n",
        "\n",
        "ESTADO_SUBESTADO = {\n",
        "  **dict.fromkeys(SUBESTADOS_ACTIVOS, \"ACTIVO\"),\n",
        "  **dict.fromkeys(SUBESTADOS_OBSOLETOS, \"OBSOLETO\"),\n",
        "  **dict.fromkeys(SUBESTADOS_RETIRADOS, \"RETIRADO\")\n",
        "}\n",
        "\n",
        "ATRIBUTOS_DE_UN_ACTIVO = [\n",
        "  \"ACTA DE ENTREGA\",\n",
        "  \"SUBTIPO\",\n",
        "  \"MARCA\",\n",
        "  \"MODELO\",\n",
        "  \"PROVEEDOR\",\n",
        "  \"ESTADO\",\n",
        "  \"UBICACION\",\n",
        "  \"ASIGNADO A\",\n",
        "  \"FACTURA #\",\n",
        "  \"NUEVO / USADO\",\n",
        "  \"GARANTIA\",\n",
        "  \"FECHA COMPRA\",\n",
        "  \"FECHA FIN\",\n",
        "]\n",
        "\n",
        "COLUMNAS_CON_VALORES_VALIDOS = [\n",
        "  \"PANTALLA\",\n",
        "  \"SISTEMA OPERATIVO\",\n",
        "  \"MEMORIA\",\n",
        "  \"DISCO DURO\",\n",
        "  \"GENERACION\",\n",
        "  \"PROCESADOR\",\n",
        "  \"PROVEEDOR\"\n",
        "]\n",
        "\n",
        "COLUMNAS_SIN_VALORES_VALIDOS = [\n",
        "  \"PLACA\",\n",
        "  \"SERIAL FISICO\",\n",
        "  \"SERIAL BOARD\",\n",
        "]\n",
        "\n",
        "ATRIBUTOS_ADICIONALES = COLUMNAS_CON_VALORES_VALIDOS + COLUMNAS_SIN_VALORES_VALIDOS\n",
        "\n",
        "ATRIBUTO_IDS = {nombre: idx + 1 for idx, nombre in enumerate(ATRIBUTOS_ADICIONALES)}\n",
        "\n",
        "CLIENTES = clients[['name', 'codigo_cliente']]\n",
        "CLIENTES = CLIENTES.drop_duplicates(subset=[\"codigo_cliente\"], keep=\"first\")"
      ]
    },
    {
      "cell_type": "markdown",
      "metadata": {},
      "source": [
        "### Tabla `clients`"
      ]
    },
    {
      "cell_type": "code",
      "execution_count": 8,
      "metadata": {},
      "outputs": [],
      "source": [
        "def insert_into_clients(clients: list[str]) -> str:\n",
        "    # dictionary with iterrows\n",
        "    values: str = \"\"\n",
        "    for idx, row in clients.iterrows():\n",
        "        values += f\"    ({idx + 1}, '{row['codigo_cliente']}', '{row['name']}'),\\n\"\n",
        "\n",
        "    comma_pos = values.rfind(\",\")\n",
        "    values = values[:comma_pos] + \";\" + values[comma_pos + 1 :]\n",
        "\n",
        "    return f\"INSERT INTO clients (id, client_code, name) VALUES\\n{values};\""
      ]
    },
    {
      "cell_type": "markdown",
      "metadata": {
        "id": "Ie3FVqTv6VEi"
      },
      "source": [
        "### Tabla `estado_acta`"
      ]
    },
    {
      "cell_type": "code",
      "execution_count": 9,
      "metadata": {
        "id": "ORXQ-Pc-85RB"
      },
      "outputs": [],
      "source": [
        "def insert_into_estado_acta() -> str:\n",
        "  return \"\"\"INSERT INTO estado_acta (estado_acta) VALUES\n",
        "    ('ACTIVA'),\n",
        "    ('BLOQUEADA'),\n",
        "    ('HISTORICO'),\n",
        "    ('PRE-ACTIVA'),\n",
        "    ('CERRADA');\\n\"\"\""
      ]
    },
    {
      "cell_type": "markdown",
      "metadata": {
        "id": "3R-q0QM19I6d"
      },
      "source": [
        "### Tabla `tipo_servicio`"
      ]
    },
    {
      "cell_type": "code",
      "execution_count": 10,
      "metadata": {
        "id": "Cgt51Ui79Riw"
      },
      "outputs": [],
      "source": [
        "def insert_into_tipo_servicio() -> str:\n",
        "  return \"\"\"INSERT INTO tipo_servicio (servicio, prefijo) VALUES\n",
        "    ('IMPRESION','Y'),\n",
        "    ('ARRENDAMIENTO','A'),\n",
        "    ('OTRO','?'),\n",
        "    ('PRESTAMO','P');\\n\"\"\""
      ]
    },
    {
      "cell_type": "markdown",
      "metadata": {
        "id": "C8ASelpVrtwt"
      },
      "source": [
        "### Tabla `estado_activo`"
      ]
    },
    {
      "cell_type": "code",
      "execution_count": 11,
      "metadata": {
        "id": "h4sEWEgoryYE"
      },
      "outputs": [],
      "source": [
        "def insert_into_estado_activo() -> str:\n",
        "  return \"\"\"INSERT INTO estado_activo (estado) VALUES\n",
        "    ('ACTIVO'),\n",
        "    ('OBSOLETO'),\n",
        "    ('RETIRADO');\\n\"\"\""
      ]
    },
    {
      "cell_type": "markdown",
      "metadata": {
        "id": "AtC10CEYtLej"
      },
      "source": [
        "### Tabla `subestado_activo`"
      ]
    },
    {
      "cell_type": "code",
      "execution_count": 12,
      "metadata": {
        "id": "2Lu8594RtSeK"
      },
      "outputs": [],
      "source": [
        "def insert_into_subestado_activo() -> str:\n",
        "  values: str = \"\"\n",
        "  for subestado, estado in ESTADO_SUBESTADO.items():\n",
        "    values = values + f\"    ('{subestado}', '{estado}'),\\n\"\n",
        "  else:\n",
        "    comma_pos = values.rfind(\",\")\n",
        "    values = values[:comma_pos] + \";\" + values[comma_pos+1:]\n",
        "\n",
        "  return \"INSERT INTO subestado_activo (subestado, estado_padre) VALUES\\n\" + values\n"
      ]
    },
    {
      "cell_type": "markdown",
      "metadata": {
        "id": "U6Td3xhdhSGk"
      },
      "source": [
        "### Tabla `atributo`"
      ]
    },
    {
      "cell_type": "code",
      "execution_count": 13,
      "metadata": {
        "id": "jq8yrVzHhogN"
      },
      "outputs": [],
      "source": [
        "def insert_into_atributo(equipos: pd.DataFrame) -> str:\n",
        "  valores_validos = {}\n",
        "  for columna in COLUMNAS_CON_VALORES_VALIDOS:\n",
        "    valores_unicos = list(equipos[columna].dropna().unique())\n",
        "    valores_validos[columna] = valores_unicos\n",
        "\n",
        "  values: str = \"\"\n",
        "  atributo_id = 1\n",
        "  for columna, valores in valores_validos.items():\n",
        "    valores_json = json.dumps(valores, ensure_ascii=False)\n",
        "    values += f\"    ({atributo_id}, '{columna}', 'String', '{valores_json}'::jsonb, true),\\n\"\n",
        "    atributo_id += 1\n",
        "\n",
        "  for columna in COLUMNAS_SIN_VALORES_VALIDOS:\n",
        "    values += f\"    ({atributo_id}, '{columna}', 'NA', NULL, false),\\n\"\n",
        "    atributo_id += 1\n",
        "  else:\n",
        "    comma_pos = values.rfind(\",\")\n",
        "    values = values[:comma_pos] + \";\" + values[comma_pos+1:]\n",
        "\n",
        "  return (\n",
        "      \"INSERT INTO atributo \"\n",
        "      \"(atributo_id, nombre, tipo_dato, valores_validos, tiene_valores_validos) VALUES\\n\"\n",
        "      + values\n",
        "  )"
      ]
    },
    {
      "cell_type": "markdown",
      "metadata": {
        "id": "3E5AWkKi_5yp"
      },
      "source": [
        "### Tabla `tipo_activo`\n",
        "\n"
      ]
    },
    {
      "cell_type": "code",
      "execution_count": 14,
      "metadata": {
        "id": "BtmwnBV1_8kX"
      },
      "outputs": [],
      "source": [
        "def insert_into_tipo_activo(equipos: pd.DataFrame) -> str:\n",
        "  tipos_de_equipos = list(equipos['SUBTIPO'].dropna().unique())\n",
        "  values: str = \"\"\n",
        "  tipo_id: int = 1\n",
        "\n",
        "  for tipo in tipos_de_equipos:\n",
        "    # Filtrar equipos por tipo\n",
        "    equipos_tipo = equipos[equipos['SUBTIPO'] == tipo]\n",
        "    \n",
        "    # Agrupar por marca y obtener modelos únicos\n",
        "    marcas_modelos = []\n",
        "    for marca, grupo in equipos_tipo.groupby('MARCA'):\n",
        "      if pd.notna(marca) and str(marca).strip():\n",
        "        modelos = list(grupo['MODELO'].dropna().unique())\n",
        "        modelos = [str(modelo).strip() for modelo in modelos if str(modelo).strip()]\n",
        "        if modelos:  # Solo incluir marcas que tengan al menos un modelo\n",
        "          marcas_modelos.append({\n",
        "            \"nombre\": str(marca).strip(),\n",
        "            \"modelos\": modelos\n",
        "          })\n",
        "    \n",
        "    # Convertir a JSON\n",
        "    marcas_json = json.dumps(marcas_modelos, ensure_ascii=False)\n",
        "    values += f\"    ('{tipo}', '{marcas_json}'::jsonb),\\n\"\n",
        "    tipo_id += 1\n",
        "  else:\n",
        "    comma_pos = values.rfind(\",\")\n",
        "    values = values[:comma_pos] + \";\" + values[comma_pos+1:]\n",
        "\n",
        "  return \"INSERT INTO tipo_activo (tipo_activo, marcas_y_modelos) VALUES\\n\" + values"
      ]
    },
    {
      "cell_type": "markdown",
      "metadata": {
        "id": "eGlX21T6fSOi"
      },
      "source": [
        "### Tabla `atributo_tipoactivo`"
      ]
    },
    {
      "cell_type": "code",
      "execution_count": 15,
      "metadata": {
        "id": "dtwEdD8OJ9ZV"
      },
      "outputs": [],
      "source": [
        "def insert_into_atributo_tipoactivo(equipos: pd.DataFrame, atributo_ids: dict[str, int]) -> str:\n",
        "  atributos_validos = [a for a in ATRIBUTOS_ADICIONALES if a not in ATRIBUTOS_DE_UN_ACTIVO]\n",
        "\n",
        "  values = \"\"\n",
        "\n",
        "  for tipo, grupo in equipos.groupby(\"SUBTIPO\"):\n",
        "      for atributo in atributos_validos:\n",
        "          if grupo[atributo].notna().any(): # si el atributo aparece al menos una vez para el tipo especifico\n",
        "              atributo_id = atributo_ids[atributo]\n",
        "              values += f\"    ('{tipo}', {atributo_id}),\\n\"\n",
        "\n",
        "  comma_pos = values.rfind(\",\")\n",
        "  values = values[:comma_pos] + \";\" + values[comma_pos + 1 :]\n",
        "\n",
        "  return \"INSERT INTO atributo_tipoactivo (tipo_activo, atributo_id) VALUES\\n\" + values"
      ]
    },
    {
      "cell_type": "markdown",
      "metadata": {
        "id": "Rk1LgU_M9sHz"
      },
      "source": [
        "### Tabla `activo`"
      ]
    },
    {
      "cell_type": "code",
      "execution_count": 16,
      "metadata": {
        "id": "hW1a01N1-Hob"
      },
      "outputs": [],
      "source": [
        "def row_to_activo(row: pd.Series, insert_index: int) -> str:\n",
        "  acta_entrega_actual: str = convert_to_string(row.get(\"ACTA DE ENTREGA\"))\n",
        "  tipo: str = convert_to_string(str(row.get(\"SUBTIPO\", \"\")).strip().upper())\n",
        "  marca: str = convert_to_string(row.get('MARCA'))\n",
        "  modelo: str = convert_to_string(row.get('MODELO'))\n",
        "  proveedor: str = convert_to_string(row.get('PROVEEDOR')) # preguntar a juank - creo que este es el comprado a\n",
        "  subestado: str = convert_to_string(row.get(\"ESTADO\"))\n",
        "  estado: str = convert_to_string(ESTADO_SUBESTADO.get(row.get(\"ESTADO\")))\n",
        "  condicion: str = convert_to_string(row.get('NUEVO / USADO'))\n",
        "  fecha_compra: str = format_date(str(row.get(\"FECHA COMPRA\", \"\")).strip())\n",
        "  factura_compra: str = convert_to_string(row.get('FACTURA #'))\n",
        "  garantia: str = convert_to_string(row.get('GARANTIA'))\n",
        "  asignado_a: str = convert_to_string(row.get('ASIGNADO A')) # este posiblemente queda null si es el asignado que pone el cliente manualmente\n",
        "  ubicacion: str = convert_to_string(row.get('UBICACION'))\n",
        "\n",
        "  return \"\"\"INSERT INTO activo (activo_id, acta_entrega_actual, tipo, marca, modelo, proveedor, estado, subestado, condicion, fecha_compra, factura_compra, garantia, asignado_a, ubicacion) VALUES (\n",
        "    {}, -- activo_id\n",
        "    {}, -- acta_entrega_actual\n",
        "    {}, -- tipo\n",
        "    {}, -- marca\n",
        "    {}, -- modelo\n",
        "    {}, -- proveedor\n",
        "    {}, -- estado\n",
        "    {}, -- subestado\n",
        "    {}, -- condicion\n",
        "    {}, -- fecha_compra\n",
        "    {}, -- factura_compra\n",
        "    {}, -- garantia\n",
        "    {}, -- asignado_a\n",
        "    {}); -- ubicacion\"\"\".format(\n",
        "            insert_index,\n",
        "            acta_entrega_actual,\n",
        "            tipo,\n",
        "            marca,\n",
        "            modelo,\n",
        "            proveedor,\n",
        "            estado,\n",
        "            subestado,\n",
        "            condicion,\n",
        "            fecha_compra,\n",
        "            factura_compra,\n",
        "            garantia,\n",
        "            asignado_a,\n",
        "            ubicacion\n",
        "        )"
      ]
    },
    {
      "cell_type": "markdown",
      "metadata": {
        "id": "QIsAnlXlWcP-"
      },
      "source": [
        "### Tabla `atributo_activo`"
      ]
    },
    {
      "cell_type": "code",
      "execution_count": 17,
      "metadata": {
        "id": "pCZ2mVmrWis5"
      },
      "outputs": [],
      "source": [
        "def row_to_atributo_activo(row: pd.Series, insert_index: int, atributo_ids: dict[str, int]) -> str:\n",
        "  values: str = \"\"\n",
        "  for columna in row.index:\n",
        "    valor_columna = row[columna]\n",
        "    if pd.notna(valor_columna) and str(valor_columna).strip():\n",
        "      atributo_id = atributo_ids.get(columna) # busca la columna en la lista de atributos adicionales\n",
        "      if atributo_id:\n",
        "        values += f\"    ({insert_index}, {atributo_id}, {convert_to_string(valor_columna)}), -- {columna} \\n\"\n",
        "  else:\n",
        "    comma_pos = values.rfind(\",\")\n",
        "    values = values[:comma_pos] + \";\" + values[comma_pos+1:]\n",
        "\n",
        "  return \"\\nINSERT INTO atributo_activo (activo_id, atributo_id, valor) VALUES\\n\" + values if values != \"\" else \"-- no posee atributos adicionales\""
      ]
    },
    {
      "cell_type": "markdown",
      "metadata": {
        "id": "lm0qUMlVkfIr"
      },
      "source": [
        "### Tabla `observacion`"
      ]
    },
    {
      "cell_type": "code",
      "execution_count": 18,
      "metadata": {
        "id": "bEs5Q3xCkQOU"
      },
      "outputs": [],
      "source": [
        "def row_to_observacion(row: pd.Series, activo_id: int, observacion_id: int) -> str:\n",
        "  observacion: str = convert_to_string(row.get(\"OBSERVACIONES\"))\n",
        "  return \"INSERT INTO observacion (observacion_id, activo_id, contenido, fecha) VALUES ({},{},{},{});\".format(\n",
        "    observacion_id,\n",
        "    activo_id,\n",
        "    observacion,\n",
        "    format_date(datetime.today().date())\n",
        "  ) if observacion != \"NULL\" else \"-- no posee observaciones\""
      ]
    },
    {
      "cell_type": "markdown",
      "metadata": {
        "id": "SXL9QrxarOfr"
      },
      "source": [
        "### Tabla `movimiento`"
      ]
    },
    {
      "cell_type": "code",
      "execution_count": 19,
      "metadata": {
        "id": "7wZjiJTJrUBQ"
      },
      "outputs": [],
      "source": [
        "def row_to_movimiento(row: pd.Series, activo_id: int, movimiento_id: int) -> str:\n",
        "  movimiento: str = convert_to_string(row.get(\"MOVIMIENTO\"))\n",
        "  return \"INSERT INTO movimiento (movimiento_id, activo_id, contenido, fecha) VALUES ({},{},{},{});\".format(\n",
        "    movimiento_id,\n",
        "    activo_id,\n",
        "    movimiento,\n",
        "    format_date(datetime.today().date())\n",
        "  ) if movimiento != \"NULL\" else \"-- no posee movimientos\""
      ]
    },
    {
      "cell_type": "markdown",
      "metadata": {},
      "source": [
        "### Tabla acta_entrega"
      ]
    },
    {
      "cell_type": "code",
      "execution_count": 20,
      "metadata": {},
      "outputs": [],
      "source": [
        "def row_to_acta_entrega(row: pd.Series, clients: pd.DataFrame, actas_procesadas: set) -> str:\n",
        "  actaentrega_id_raw = row.get(\"ACTA DE ENTREGA\")\n",
        "  actaentrega_id: str = convert_to_string(actaentrega_id_raw)\n",
        "  \n",
        "  if actaentrega_id == \"NULL\":\n",
        "    return \"-- no posee acta de entrega\"\n",
        "  \n",
        "  # Verificar si esta acta ya fue procesada\n",
        "  acta_key = str(actaentrega_id_raw).strip().upper() if pd.notna(actaentrega_id_raw) else \"\"\n",
        "  if acta_key in actas_procesadas:\n",
        "    return f\"-- acta {actaentrega_id} ya existe, omitiendo insert\"\n",
        "  \n",
        "  # Marcar esta acta como procesada\n",
        "  actas_procesadas.add(acta_key)\n",
        "  \n",
        "  fecha_inicio: str = 'NULL' # no hay fecha de inicio en el excel\n",
        "  fecha_fin: str = format_date(row.get(\"FECHA FIN\"))\n",
        "  tipo_servicio: str = obtener_tipo_servicio(row.get(\"ACTA DE ENTREGA\"))\n",
        "  estado: str = convert_to_string(\"ACTIVA\") # por defecto todos son activos\n",
        "  cliente_codigo = safe_int(extraer_codigo_cliente(row.get(\"ACTA DE ENTREGA\")))\n",
        "\n",
        "  cliente_row = clients[clients['codigo_cliente'] == cliente_codigo]\n",
        "  cliente_id = cliente_row.index[0] + 1 if not cliente_row.empty else \"NULL\"\n",
        "\n",
        "  return \"\"\"INSERT INTO acta_entrega (actaentrega_id, fecha_inicio, fecha_fin, tipo_servicio, estado, cliente_id) VALUES (\n",
        "    {}, -- actaentrega_id\n",
        "    {}, -- fecha_inicio\n",
        "    {}, -- fecha_fin\n",
        "    {}, -- tipo_servicio\n",
        "    {}, -- estado\n",
        "    {}); -- cliente_id\"\"\".format(\n",
        "            actaentrega_id,\n",
        "            fecha_inicio,\n",
        "            fecha_fin,\n",
        "            tipo_servicio,\n",
        "            estado,\n",
        "            cliente_id\n",
        "        )"
      ]
    },
    {
      "cell_type": "markdown",
      "metadata": {},
      "source": [
        "### Tabla etiqueta"
      ]
    },
    {
      "cell_type": "code",
      "execution_count": 21,
      "metadata": {},
      "outputs": [],
      "source": [
        "def row_to_etiqueta(row: pd.Series, etiqueta_id: int) -> str:\n",
        "  canon: str = convert_to_string(row.get(\"CANON\"))\n",
        "  nombre: str = convert_to_string(f\"ETIQUETA-{etiqueta_id:05d}\")\n",
        "  acta_asociada: str = convert_to_string(row.get(\"ACTA DE ENTREGA\"))\n",
        "  return \"INSERT INTO etiqueta (etiqueta_id, canon, is_enabled, nombre, acta_asociada) VALUES ({},{},{},{},{});\".format(\n",
        "    etiqueta_id,\n",
        "    canon,\n",
        "    'true',\n",
        "    nombre,\n",
        "    acta_asociada\n",
        "  ) if acta_asociada != \"NULL\" else \"-- no posee etiqueta\""
      ]
    },
    {
      "cell_type": "markdown",
      "metadata": {},
      "source": [
        "### Tabla activo_actaentrega"
      ]
    },
    {
      "cell_type": "code",
      "execution_count": 22,
      "metadata": {},
      "outputs": [],
      "source": [
        "def row_to_activo_actaentrega(row: pd.Series, activo_id: int, etiqueta_id: int) -> str:\n",
        "  actaentrega_id: str = convert_to_string(row.get(\"ACTA DE ENTREGA\"))\n",
        "  asignado_a: str = \"''\"\n",
        "  descripcion: str = \"''\"\n",
        "\n",
        "  etiqueta_asociada: str = etiqueta_id if actaentrega_id != \"NULL\" else \"NULL\"\n",
        "\n",
        "  return \"INSERT INTO activo_actaentrega (asignado_a, descripcion, actaentrega_id, activo_id, etiqueta_asociada) VALUES ({},{},{},{},{});\".format(\n",
        "    asignado_a,\n",
        "    descripcion,\n",
        "    actaentrega_id,\n",
        "    activo_id,\n",
        "    etiqueta_asociada\n",
        "  ) if actaentrega_id != \"NULL\" else \"-- no posee acta de entrega\""
      ]
    },
    {
      "cell_type": "markdown",
      "metadata": {},
      "source": [
        "### Script para reiniciar los indices de las tablas"
      ]
    },
    {
      "cell_type": "code",
      "execution_count": 23,
      "metadata": {},
      "outputs": [],
      "source": [
        "def reset_sequences() -> str:\n",
        "\n",
        "    return \"\"\"-- Ajustar secuencia de clients.id\n",
        "SELECT setval(pg_get_serial_sequence('clients', 'id'), COALESCE((SELECT MAX(id) FROM clients), 0) + 1, false);\n",
        "\n",
        "-- Ajustar secuencia de atributo.atributo_id\n",
        "SELECT setval(pg_get_serial_sequence('atributo', 'atributo_id'), COALESCE((SELECT MAX(atributo_id) FROM atributo), 0) + 1, false);\n",
        "\n",
        "-- Ajustar secuencia de etiqueta.etiqueta_id\n",
        "SELECT setval(pg_get_serial_sequence('etiqueta', 'etiqueta_id'), COALESCE((SELECT MAX(etiqueta_id) FROM etiqueta), 0) + 1, false);\n",
        "\n",
        "-- Ajustar secuencia de activo.activo_id\n",
        "SELECT setval(pg_get_serial_sequence('activo', 'activo_id'), COALESCE((SELECT MAX(activo_id) FROM activo), 0) + 1, false);\n",
        "\n",
        "-- Ajustar secuencia de movimiento.movimiento_id\n",
        "SELECT setval(pg_get_serial_sequence('movimiento', 'movimiento_id'), COALESCE((SELECT MAX(movimiento_id) FROM movimiento), 0) + 1, false);\n",
        "\n",
        "-- Ajustar secuencia de observacion.observacion_id\n",
        "SELECT setval(pg_get_serial_sequence('observacion', 'observacion_id'), COALESCE((SELECT MAX(observacion_id) FROM observacion), 0) + 1, false);\"\"\""
      ]
    },
    {
      "cell_type": "markdown",
      "metadata": {
        "id": "SOeBIypxzoS4"
      },
      "source": [
        "## SQL merge"
      ]
    },
    {
      "cell_type": "code",
      "execution_count": 24,
      "metadata": {
        "colab": {
          "base_uri": "https://localhost:8080/"
        },
        "id": "VxECtQr7zvrt",
        "outputId": "1402c7d3-7bf8-4f87-c60b-62fea2fd42d0"
      },
      "outputs": [
        {
          "name": "stderr",
          "output_type": "stream",
          "text": [
            "/tmp/ipykernel_2265/1939574963.py:8: UserWarning: Parsing dates in %Y-%m-%d %H:%M:%S format when dayfirst=True was specified. Pass `dayfirst=False` or specify a format to silence this warning.\n",
            "  fecha_dt = pd.to_datetime(fecha_raw, dayfirst=True, errors='coerce')\n"
          ]
        },
        {
          "name": "stdout",
          "output_type": "stream",
          "text": [
            "Script completado. Archivo generado: output/AssetsInserts.sql\n",
            "Actas únicas procesadas: 599\n",
            "Activos procesados: 2014\n"
          ]
        }
      ],
      "source": [
        "output_sql: list[str] = []\n",
        "\n",
        "with open(input_email, \"r\", encoding=\"utf-8\") as ddl_file:\n",
        "  email_content = ddl_file.read()\n",
        "\n",
        "output_sql.append(\"/* ======= EMAIL TEMPLATES ======= */\\n\")\n",
        "output_sql.append(email_content)\n",
        "\n",
        "# leer primero archivo ddl\n",
        "with open(input_assets_ddl, \"r\", encoding=\"utf-8\") as ddl_file:\n",
        "  ddl_content = ddl_file.read()\n",
        "\n",
        "output_sql.append(\"/* ======= DDL ======= */\\n\")\n",
        "output_sql.append(ddl_content)\n",
        "\n",
        "output_sql.append(\"/* ======= INSERTS ======= */\\n\")\n",
        "\n",
        "clientes_insert = insert_into_clients(CLIENTES)\n",
        "tipos_servicios_insert = insert_into_tipo_servicio()\n",
        "estados_actas_insert = insert_into_estado_acta()\n",
        "estados_activos_insert = insert_into_estado_activo()\n",
        "subestados_activos_insert = insert_into_subestado_activo()\n",
        "atributos_insert = insert_into_atributo(equipos)\n",
        "tipos_activos_insert = insert_into_tipo_activo(equipos)\n",
        "atributos_tipoactivo_insert = insert_into_atributo_tipoactivo(equipos, ATRIBUTO_IDS)\n",
        "\n",
        "output_sql.append(clientes_insert)\n",
        "output_sql.append(tipos_servicios_insert)\n",
        "output_sql.append(estados_actas_insert)\n",
        "output_sql.append(estados_activos_insert)\n",
        "output_sql.append(subestados_activos_insert)\n",
        "output_sql.append(atributos_insert)\n",
        "output_sql.append(tipos_activos_insert)\n",
        "output_sql.append(atributos_tipoactivo_insert)\n",
        "\n",
        "# Inicializar contadores independientes\n",
        "insert_index = 1\n",
        "observacion_index = 1\n",
        "movimiento_index = 1\n",
        "etiqueta_index = 1\n",
        "\n",
        "# Conjunto para llevar registro de actas ya procesadas\n",
        "actas_procesadas = set()\n",
        "\n",
        "# Agregar comentario explicativo\n",
        "output_sql.append(\"\\n/* ======= DATOS DE ACTIVOS ======= */\")\n",
        "output_sql.append(\"/* NOTA: Las actas duplicadas solo se insertan una vez. */\")\n",
        "output_sql.append(\"/* Cada activo siempre recibe su propia etiqueta y relación activo_actaentrega. */\\n\")\n",
        "\n",
        "for _, row in equipos.iterrows():\n",
        "  output_sql.append(f\"\\n/* ======= activo {insert_index} ======= */\")\n",
        "\n",
        "  activo_insert = row_to_activo(row, insert_index)\n",
        "  atributo_activo_insert = row_to_atributo_activo(row, insert_index, ATRIBUTO_IDS)\n",
        "\n",
        "  observacion_insert = row_to_observacion(row, insert_index, observacion_index)\n",
        "  if not observacion_insert.startswith(\"--\"):\n",
        "    observacion_index += 1\n",
        "\n",
        "  movimiento_insert = row_to_movimiento(row, insert_index, movimiento_index)\n",
        "  if not movimiento_insert.startswith(\"--\"):\n",
        "    movimiento_index += 1\n",
        "\n",
        "  acta_entrega_insert = row_to_acta_entrega(row, CLIENTES, actas_procesadas)\n",
        "\n",
        "  etiqueta_insert = row_to_etiqueta(row, etiqueta_index)\n",
        "  if not etiqueta_insert.startswith(\"--\"):\n",
        "    etiqueta_index += 1\n",
        "\n",
        "  activo_actaentrega_insert = row_to_activo_actaentrega(row, insert_index, etiqueta_index - 1)\n",
        "\n",
        "  output_sql.append(activo_insert)\n",
        "  output_sql.append(atributo_activo_insert)\n",
        "  output_sql.append(observacion_insert)\n",
        "  output_sql.append(movimiento_insert)\n",
        "  output_sql.append(acta_entrega_insert)\n",
        "  output_sql.append(etiqueta_insert)\n",
        "  output_sql.append(activo_actaentrega_insert)\n",
        "\n",
        "  insert_index += 1\n",
        "\n",
        "# Acomodar secuencias de indices al final\n",
        "reset_seq_sql = reset_sequences()\n",
        "output_sql.append(\"\\n/* ======= REINICIAR SECUENCIAS ======= */\\n\")\n",
        "output_sql.append(reset_seq_sql)\n",
        "\n",
        "# Agregar estadísticas al final\n",
        "output_sql.append(f\"\\n/* ======= ESTADÍSTICAS ======= */\")\n",
        "output_sql.append(f\"/* Total de activos procesados: {insert_index - 1} */\")\n",
        "output_sql.append(f\"/* Total de actas únicas encontradas: {len(actas_procesadas)} */\")\n",
        "output_sql.append(f\"/* Total de etiquetas generadas: {etiqueta_index - 1} */\")\n",
        "output_sql.append(f\"/* Total de observaciones: {observacion_index - 1} */\")\n",
        "output_sql.append(f\"/* Total de movimientos: {movimiento_index - 1} */\")\n",
        "\n",
        "with open(output_sql_inserts, \"w\", encoding=\"utf-8\") as f:\n",
        "    f.write(\"\\n\".join(output_sql))\n",
        "\n",
        "print(f\"Script completado. Archivo generado: {output_sql_inserts}\")\n",
        "print(f\"Actas únicas procesadas: {len(actas_procesadas)}\")\n",
        "print(f\"Activos procesados: {insert_index - 1}\")"
      ]
    },
    {
      "cell_type": "markdown",
      "metadata": {
        "id": "krOCD9qjzjmQ"
      },
      "source": [
        "\n",
        "\n",
        "\n",
        "---\n",
        "\n",
        "\n",
        "\n",
        "---\n",
        "\n",
        "\n",
        "\n",
        "---\n",
        "\n",
        "\n",
        "\n",
        "---\n",
        "\n",
        "\n",
        "---\n",
        "\n",
        "\n",
        "---\n",
        "\n",
        "\n",
        "\n",
        "---\n",
        "\n",
        "\n",
        "\n",
        "---\n",
        "\n",
        "\n",
        "# LO QUE SIGUE ES SOLO PARA PRUEBAS DE EJECUCIÓN\n",
        "\n",
        "\n",
        "---\n",
        "\n",
        "\n",
        "---\n",
        "\n",
        "\n",
        "\n",
        "---\n",
        "\n",
        "\n",
        "\n",
        "\n",
        "---\n",
        "\n",
        "\n",
        "\n",
        "---\n",
        "\n",
        "\n",
        "\n",
        "---\n",
        "\n",
        "\n",
        "\n",
        "---\n",
        "\n",
        "\n",
        "\n",
        "---\n",
        "\n"
      ]
    },
    {
      "cell_type": "code",
      "execution_count": 29,
      "metadata": {},
      "outputs": [
        {
          "data": {
            "text/html": [
              "<div>\n",
              "<style scoped>\n",
              "    .dataframe tbody tr th:only-of-type {\n",
              "        vertical-align: middle;\n",
              "    }\n",
              "\n",
              "    .dataframe tbody tr th {\n",
              "        vertical-align: top;\n",
              "    }\n",
              "\n",
              "    .dataframe thead th {\n",
              "        text-align: right;\n",
              "    }\n",
              "</style>\n",
              "<table border=\"1\" class=\"dataframe\">\n",
              "  <thead>\n",
              "    <tr style=\"text-align: right;\">\n",
              "      <th></th>\n",
              "      <th>id</th>\n",
              "      <th>idcrm</th>\n",
              "      <th>ltipocliente</th>\n",
              "      <th>lmoneda</th>\n",
              "      <th>lemailfacturar</th>\n",
              "      <th>lsector</th>\n",
              "      <th>name</th>\n",
              "      <th>type</th>\n",
              "      <th>identification</th>\n",
              "      <th>person_type</th>\n",
              "      <th>...</th>\n",
              "      <th>correo_facturacion_electronica</th>\n",
              "      <th>correo_reportar_pagos</th>\n",
              "      <th>sistemas_correo</th>\n",
              "      <th>sistemas_nombre</th>\n",
              "      <th>sistemas_telefono</th>\n",
              "      <th>tesoreria_correo</th>\n",
              "      <th>tesoreria_nombre</th>\n",
              "      <th>tesoreria_telefono</th>\n",
              "      <th>carteradetalladaID</th>\n",
              "      <th>codigo_cliente</th>\n",
              "    </tr>\n",
              "  </thead>\n",
              "  <tbody>\n",
              "    <tr>\n",
              "      <th>0</th>\n",
              "      <td>365cb2e0-b13a-4c31-9ec0-462baad5ca19</td>\n",
              "      <td>1fd1783c-a65a-40bf-af25-8ed404727e80</td>\n",
              "      <td>Platino</td>\n",
              "      <td>COP</td>\n",
              "      <td>recepcionfacturas@e-tic.co</td>\n",
              "      <td>Telecomunicaciones</td>\n",
              "      <td>E-SOLUCIONES TIC S.A.S.</td>\n",
              "      <td>Customer</td>\n",
              "      <td>900823531</td>\n",
              "      <td>Company</td>\n",
              "      <td>...</td>\n",
              "      <td></td>\n",
              "      <td></td>\n",
              "      <td></td>\n",
              "      <td></td>\n",
              "      <td></td>\n",
              "      <td></td>\n",
              "      <td></td>\n",
              "      <td></td>\n",
              "      <td>None</td>\n",
              "      <td>178</td>\n",
              "    </tr>\n",
              "    <tr>\n",
              "      <th>1</th>\n",
              "      <td>73eaa659-e3a1-44d1-a35d-c91e3621a185</td>\n",
              "      <td>48387170-0dad-4dec-bac1-37d8bffff40b</td>\n",
              "      <td>Platino</td>\n",
              "      <td>COP</td>\n",
              "      <td>DCARVAJAL@DASERVICE.COM.CO</td>\n",
              "      <td>Construcción</td>\n",
              "      <td>D.A. SERVICE S.A.S.</td>\n",
              "      <td>Customer</td>\n",
              "      <td>901510063</td>\n",
              "      <td>Company</td>\n",
              "      <td>...</td>\n",
              "      <td></td>\n",
              "      <td></td>\n",
              "      <td></td>\n",
              "      <td></td>\n",
              "      <td></td>\n",
              "      <td></td>\n",
              "      <td></td>\n",
              "      <td></td>\n",
              "      <td>None</td>\n",
              "      <td>182</td>\n",
              "    </tr>\n",
              "    <tr>\n",
              "      <th>2</th>\n",
              "      <td>632588e1-f898-4e51-a6d9-31d83820b6f1</td>\n",
              "      <td>None</td>\n",
              "      <td>Platino</td>\n",
              "      <td>COP</td>\n",
              "      <td>asistente@eymconstructores.com.co</td>\n",
              "      <td>Construcción</td>\n",
              "      <td>E Y M CONSTRUCTORES S.A.S.</td>\n",
              "      <td>Customer</td>\n",
              "      <td>9002438225</td>\n",
              "      <td>Company</td>\n",
              "      <td>...</td>\n",
              "      <td></td>\n",
              "      <td></td>\n",
              "      <td></td>\n",
              "      <td></td>\n",
              "      <td></td>\n",
              "      <td></td>\n",
              "      <td></td>\n",
              "      <td></td>\n",
              "      <td>None</td>\n",
              "      <td>155</td>\n",
              "    </tr>\n",
              "    <tr>\n",
              "      <th>3</th>\n",
              "      <td>79c94e74-f582-4d98-ab98-45e16f4b2238</td>\n",
              "      <td>c0b43358-e840-4706-a302-db77ed93881e</td>\n",
              "      <td>Platino</td>\n",
              "      <td>COP</td>\n",
              "      <td>FINANCIERA@VIVIRENELPOBLADO.COM</td>\n",
              "      <td>Turismo</td>\n",
              "      <td>VIVIR EN EL POBLADO S.A.S.</td>\n",
              "      <td>Customer</td>\n",
              "      <td>901167844</td>\n",
              "      <td>Company</td>\n",
              "      <td>...</td>\n",
              "      <td></td>\n",
              "      <td></td>\n",
              "      <td></td>\n",
              "      <td></td>\n",
              "      <td></td>\n",
              "      <td></td>\n",
              "      <td></td>\n",
              "      <td></td>\n",
              "      <td>None</td>\n",
              "      <td>183</td>\n",
              "    </tr>\n",
              "    <tr>\n",
              "      <th>4</th>\n",
              "      <td>a48a44ec-2dad-4c87-8c1a-43c8ae9fabd3</td>\n",
              "      <td>e400b120-5e57-4cac-a285-b4c13ac48fd5</td>\n",
              "      <td>Platino</td>\n",
              "      <td>COP</td>\n",
              "      <td>CATALINA.OROZCO@OFFCORSS.COM</td>\n",
              "      <td>Producción Textil</td>\n",
              "      <td>C.I HERMECO S.A</td>\n",
              "      <td>Customer</td>\n",
              "      <td>890924167</td>\n",
              "      <td>Company</td>\n",
              "      <td>...</td>\n",
              "      <td></td>\n",
              "      <td></td>\n",
              "      <td></td>\n",
              "      <td></td>\n",
              "      <td></td>\n",
              "      <td></td>\n",
              "      <td></td>\n",
              "      <td></td>\n",
              "      <td>None</td>\n",
              "      <td>177</td>\n",
              "    </tr>\n",
              "  </tbody>\n",
              "</table>\n",
              "<p>5 rows × 75 columns</p>\n",
              "</div>"
            ],
            "text/plain": [
              "                                     id                                 idcrm  \\\n",
              "0  365cb2e0-b13a-4c31-9ec0-462baad5ca19  1fd1783c-a65a-40bf-af25-8ed404727e80   \n",
              "1  73eaa659-e3a1-44d1-a35d-c91e3621a185  48387170-0dad-4dec-bac1-37d8bffff40b   \n",
              "2  632588e1-f898-4e51-a6d9-31d83820b6f1                                  None   \n",
              "3  79c94e74-f582-4d98-ab98-45e16f4b2238  c0b43358-e840-4706-a302-db77ed93881e   \n",
              "4  a48a44ec-2dad-4c87-8c1a-43c8ae9fabd3  e400b120-5e57-4cac-a285-b4c13ac48fd5   \n",
              "\n",
              "  ltipocliente lmoneda                     lemailfacturar             lsector  \\\n",
              "0      Platino     COP         recepcionfacturas@e-tic.co  Telecomunicaciones   \n",
              "1      Platino     COP         DCARVAJAL@DASERVICE.COM.CO        Construcción   \n",
              "2      Platino     COP  asistente@eymconstructores.com.co        Construcción   \n",
              "3      Platino     COP    FINANCIERA@VIVIRENELPOBLADO.COM             Turismo   \n",
              "4      Platino     COP       CATALINA.OROZCO@OFFCORSS.COM   Producción Textil   \n",
              "\n",
              "                         name      type identification person_type  ...  \\\n",
              "0     E-SOLUCIONES TIC S.A.S.  Customer      900823531     Company  ...   \n",
              "1         D.A. SERVICE S.A.S.  Customer      901510063     Company  ...   \n",
              "2  E Y M CONSTRUCTORES S.A.S.  Customer     9002438225     Company  ...   \n",
              "3  VIVIR EN EL POBLADO S.A.S.  Customer      901167844     Company  ...   \n",
              "4             C.I HERMECO S.A  Customer      890924167     Company  ...   \n",
              "\n",
              "  correo_facturacion_electronica  correo_reportar_pagos  sistemas_correo  \\\n",
              "0                                                                          \n",
              "1                                                                          \n",
              "2                                                                          \n",
              "3                                                                          \n",
              "4                                                                          \n",
              "\n",
              "  sistemas_nombre  sistemas_telefono tesoreria_correo tesoreria_nombre  \\\n",
              "0                                                                        \n",
              "1                                                                        \n",
              "2                                                                        \n",
              "3                                                                        \n",
              "4                                                                        \n",
              "\n",
              "   tesoreria_telefono carteradetalladaID codigo_cliente  \n",
              "0                                   None            178  \n",
              "1                                   None            182  \n",
              "2                                   None            155  \n",
              "3                                   None            183  \n",
              "4                                   None            177  \n",
              "\n",
              "[5 rows x 75 columns]"
            ]
          },
          "execution_count": 29,
          "metadata": {},
          "output_type": "execute_result"
        }
      ],
      "source": [
        "clients.head()"
      ]
    },
    {
      "cell_type": "code",
      "execution_count": 30,
      "metadata": {
        "id": "pSizHFfLfcoz"
      },
      "outputs": [],
      "source": [
        "muestra = equipos.sample(n=10)"
      ]
    },
    {
      "cell_type": "code",
      "execution_count": 31,
      "metadata": {
        "colab": {
          "base_uri": "https://localhost:8080/",
          "height": 533
        },
        "id": "IKiBk6-_W8-s",
        "outputId": "c99a0937-4602-43cb-e035-59fa0733fd81"
      },
      "outputs": [
        {
          "data": {
            "text/html": [
              "<div>\n",
              "<style scoped>\n",
              "    .dataframe tbody tr th:only-of-type {\n",
              "        vertical-align: middle;\n",
              "    }\n",
              "\n",
              "    .dataframe tbody tr th {\n",
              "        vertical-align: top;\n",
              "    }\n",
              "\n",
              "    .dataframe thead th {\n",
              "        text-align: right;\n",
              "    }\n",
              "</style>\n",
              "<table border=\"1\" class=\"dataframe\">\n",
              "  <thead>\n",
              "    <tr style=\"text-align: right;\">\n",
              "      <th></th>\n",
              "      <th>PLACA</th>\n",
              "      <th>TIPO</th>\n",
              "      <th>MARCA</th>\n",
              "      <th>MODELO</th>\n",
              "      <th>PANTALLA</th>\n",
              "      <th>PROCESADOR</th>\n",
              "      <th>GENERACION</th>\n",
              "      <th>MEMORIA</th>\n",
              "      <th>DISCO DURO</th>\n",
              "      <th>SERIAL FISICO</th>\n",
              "      <th>...</th>\n",
              "      <th>ACTA DE ENTREGA</th>\n",
              "      <th>CANON</th>\n",
              "      <th>SISTEMA OPERATIVO</th>\n",
              "      <th>MOVIMIENTO</th>\n",
              "      <th>COMPRADO A</th>\n",
              "      <th>FACTURA #</th>\n",
              "      <th>NUEVO / USADO</th>\n",
              "      <th>GARANTIA</th>\n",
              "      <th>FECHA COMPRA</th>\n",
              "      <th>FECHA FIN</th>\n",
              "    </tr>\n",
              "  </thead>\n",
              "  <tbody>\n",
              "    <tr>\n",
              "      <th>1675</th>\n",
              "      <td>32662</td>\n",
              "      <td>PORTATIL</td>\n",
              "      <td>DELL</td>\n",
              "      <td>LATITUDE 5420</td>\n",
              "      <td>14\"</td>\n",
              "      <td>CORE I5</td>\n",
              "      <td>1135G7</td>\n",
              "      <td>2X8GB</td>\n",
              "      <td>M2 256GB</td>\n",
              "      <td>8FX21J3</td>\n",
              "      <td>...</td>\n",
              "      <td>A163-23</td>\n",
              "      <td>107642</td>\n",
              "      <td>WIN 11 PRO</td>\n",
              "      <td>NaN</td>\n",
              "      <td>EBAY</td>\n",
              "      <td>10-12798-22096</td>\n",
              "      <td>USADO</td>\n",
              "      <td>NaN</td>\n",
              "      <td>2025-03-07 00:00:00</td>\n",
              "      <td>2026-03-19 00:00:00</td>\n",
              "    </tr>\n",
              "    <tr>\n",
              "      <th>1043</th>\n",
              "      <td>32037</td>\n",
              "      <td>CPU</td>\n",
              "      <td>DELL</td>\n",
              "      <td>OPTIPLEX 3070 MFF</td>\n",
              "      <td>NaN</td>\n",
              "      <td>CORE I5</td>\n",
              "      <td>9500T</td>\n",
              "      <td>1X8GB</td>\n",
              "      <td>SSD SATA 256GB</td>\n",
              "      <td>6ND3P23</td>\n",
              "      <td>...</td>\n",
              "      <td>A227-111</td>\n",
              "      <td>63360</td>\n",
              "      <td>WIN 11 PRO</td>\n",
              "      <td>NaN</td>\n",
              "      <td>CAMBIO OFI</td>\n",
              "      <td>NaN</td>\n",
              "      <td>USADO</td>\n",
              "      <td>NaN</td>\n",
              "      <td>NaN</td>\n",
              "      <td>2026-05-19 00:00:00</td>\n",
              "    </tr>\n",
              "    <tr>\n",
              "      <th>1764</th>\n",
              "      <td>32734</td>\n",
              "      <td>PORTATIL</td>\n",
              "      <td>DELL</td>\n",
              "      <td>LATITUDE 5420</td>\n",
              "      <td>14\"</td>\n",
              "      <td>CORE I5</td>\n",
              "      <td>1145G7</td>\n",
              "      <td>1X16GB</td>\n",
              "      <td>M2 512GB</td>\n",
              "      <td>CT581J3</td>\n",
              "      <td>...</td>\n",
              "      <td>A192-30</td>\n",
              "      <td>123911</td>\n",
              "      <td>WIN 11 PRO</td>\n",
              "      <td>NaN</td>\n",
              "      <td>EBAY</td>\n",
              "      <td>14-12896-50808</td>\n",
              "      <td>USADO</td>\n",
              "      <td>NaN</td>\n",
              "      <td>2025-04-01 00:00:00</td>\n",
              "      <td>2025-09-25 00:00:00</td>\n",
              "    </tr>\n",
              "    <tr>\n",
              "      <th>1117</th>\n",
              "      <td>32087</td>\n",
              "      <td>PORTATIL</td>\n",
              "      <td>DELL</td>\n",
              "      <td>LATITUDE 5410</td>\n",
              "      <td>14\"</td>\n",
              "      <td>CORE I7</td>\n",
              "      <td>10610U</td>\n",
              "      <td>1X16GB</td>\n",
              "      <td>M2 512GB</td>\n",
              "      <td>C6QZ693</td>\n",
              "      <td>...</td>\n",
              "      <td>A177-51</td>\n",
              "      <td>NaN</td>\n",
              "      <td>WIN 11 PRO</td>\n",
              "      <td>NaN</td>\n",
              "      <td>EBAY</td>\n",
              "      <td>24-11598-27812</td>\n",
              "      <td>USADO</td>\n",
              "      <td>NaN</td>\n",
              "      <td>2024-05-21 00:00:00</td>\n",
              "      <td>2025-04-18 00:00:00</td>\n",
              "    </tr>\n",
              "    <tr>\n",
              "      <th>1404</th>\n",
              "      <td>32367</td>\n",
              "      <td>CPU</td>\n",
              "      <td>DELL</td>\n",
              "      <td>OPTIPLEX 7080 SFF</td>\n",
              "      <td>NaN</td>\n",
              "      <td>CORE I5</td>\n",
              "      <td>10500T</td>\n",
              "      <td>2X8GB</td>\n",
              "      <td>M2 512GB</td>\n",
              "      <td>30V7H63</td>\n",
              "      <td>...</td>\n",
              "      <td>A177-80</td>\n",
              "      <td>NaN</td>\n",
              "      <td>WIN 11 PRO</td>\n",
              "      <td>NaN</td>\n",
              "      <td>EBAY</td>\n",
              "      <td>16-12199-39761</td>\n",
              "      <td>USADO</td>\n",
              "      <td>NaN</td>\n",
              "      <td>2024-10-17 00:00:00</td>\n",
              "      <td>2025-11-06 00:00:00</td>\n",
              "    </tr>\n",
              "  </tbody>\n",
              "</table>\n",
              "<p>5 rows × 25 columns</p>\n",
              "</div>"
            ],
            "text/plain": [
              "      PLACA      TIPO MARCA             MODELO PANTALLA PROCESADOR GENERACION  \\\n",
              "1675  32662  PORTATIL  DELL      LATITUDE 5420      14\"    CORE I5     1135G7   \n",
              "1043  32037       CPU  DELL  OPTIPLEX 3070 MFF      NaN    CORE I5      9500T   \n",
              "1764  32734  PORTATIL  DELL      LATITUDE 5420      14\"    CORE I5     1145G7   \n",
              "1117  32087  PORTATIL  DELL      LATITUDE 5410      14\"    CORE I7     10610U   \n",
              "1404  32367       CPU  DELL  OPTIPLEX 7080 SFF      NaN    CORE I5     10500T   \n",
              "\n",
              "     MEMORIA      DISCO DURO SERIAL FISICO  ... ACTA DE ENTREGA   CANON  \\\n",
              "1675   2X8GB        M2 256GB       8FX21J3  ...         A163-23  107642   \n",
              "1043   1X8GB  SSD SATA 256GB       6ND3P23  ...        A227-111   63360   \n",
              "1764  1X16GB        M2 512GB       CT581J3  ...         A192-30  123911   \n",
              "1117  1X16GB        M2 512GB       C6QZ693  ...         A177-51     NaN   \n",
              "1404   2X8GB        M2 512GB       30V7H63  ...         A177-80     NaN   \n",
              "\n",
              "     SISTEMA OPERATIVO MOVIMIENTO  COMPRADO A       FACTURA # NUEVO / USADO  \\\n",
              "1675        WIN 11 PRO        NaN        EBAY  10-12798-22096         USADO   \n",
              "1043        WIN 11 PRO        NaN  CAMBIO OFI             NaN         USADO   \n",
              "1764        WIN 11 PRO        NaN        EBAY  14-12896-50808         USADO   \n",
              "1117        WIN 11 PRO        NaN        EBAY  24-11598-27812         USADO   \n",
              "1404        WIN 11 PRO        NaN        EBAY  16-12199-39761         USADO   \n",
              "\n",
              "     GARANTIA         FECHA COMPRA            FECHA FIN  \n",
              "1675      NaN  2025-03-07 00:00:00  2026-03-19 00:00:00  \n",
              "1043      NaN                  NaN  2026-05-19 00:00:00  \n",
              "1764      NaN  2025-04-01 00:00:00  2025-09-25 00:00:00  \n",
              "1117      NaN  2024-05-21 00:00:00  2025-04-18 00:00:00  \n",
              "1404      NaN  2024-10-17 00:00:00  2025-11-06 00:00:00  \n",
              "\n",
              "[5 rows x 25 columns]"
            ]
          },
          "execution_count": 31,
          "metadata": {},
          "output_type": "execute_result"
        }
      ],
      "source": [
        "muestra.head()"
      ]
    },
    {
      "cell_type": "code",
      "execution_count": 4,
      "metadata": {
        "colab": {
          "base_uri": "https://localhost:8080/"
        },
        "id": "29XDpGcavw8-",
        "outputId": "c3769fd4-8f8a-4f83-870b-8dd7e7cc4258"
      },
      "outputs": [
        {
          "data": {
            "text/plain": [
              "array(['Asignado', 'Stock', 'Pend. Dev. Cliente', 'Revisión',\n",
              "       'Pend. X Repuesto', 'Reparación', 'Acondicionamiento'],\n",
              "      dtype=object)"
            ]
          },
          "execution_count": 4,
          "metadata": {},
          "output_type": "execute_result"
        }
      ],
      "source": [
        "df[\"ESTADO\"].unique()"
      ]
    },
    {
      "cell_type": "code",
      "execution_count": 37,
      "metadata": {
        "colab": {
          "base_uri": "https://localhost:8080/"
        },
        "id": "UgUakF4rl88q",
        "outputId": "d894c8f4-5e1d-41dd-f931-03e38577d352"
      },
      "outputs": [
        {
          "data": {
            "text/plain": [
              "Index(['PLACA', 'SUBTIPO', 'MARCA', 'MODELO', 'PANTALLA', 'PROCESADOR',\n",
              "       'GENERACION', 'MEMORIA', 'DISCO DURO', 'SERIAL FISICO', 'OBSERVACIONES',\n",
              "       'SERIAL BOARD', 'ESTADO', 'UBICACION', 'ASIGNADO A', 'ACTA DE ENTREGA',\n",
              "       'CANON', 'SISTEMA OPERATIVO', 'MOVIMIENTO', 'PROVEEDOR', 'FACTURA #',\n",
              "       'NUEVO / USADO', 'GARANTIA', 'FECHA COMPRA', 'FECHA FIN'],\n",
              "      dtype='object')"
            ]
          },
          "execution_count": 37,
          "metadata": {},
          "output_type": "execute_result"
        }
      ],
      "source": [
        "equipos.columns"
      ]
    },
    {
      "cell_type": "code",
      "execution_count": 34,
      "metadata": {
        "colab": {
          "base_uri": "https://localhost:8080/",
          "height": 868
        },
        "id": "Vbry0EecnsCS",
        "outputId": "907b15a9-77d7-40d9-d4d3-5b6ba3ac0b57"
      },
      "outputs": [
        {
          "data": {
            "text/plain": [
              "PLACA                object\n",
              "TIPO                 object\n",
              "MARCA                object\n",
              "MODELO               object\n",
              "PANTALLA             object\n",
              "PROCESADOR           object\n",
              "GENERACION           object\n",
              "MEMORIA              object\n",
              "DISCO DURO           object\n",
              "SERIAL FISICO        object\n",
              "OBSERVACIONES        object\n",
              "SERIAL BOARD         object\n",
              "ESTADO               object\n",
              "UBICACION            object\n",
              "ASIGNADO A           object\n",
              "ACTA DE ENTREGA      object\n",
              "CANON                object\n",
              "SISTEMA OPERATIVO    object\n",
              "MOVIMIENTO           object\n",
              "COMPRADO A           object\n",
              "FACTURA #            object\n",
              "NUEVO / USADO        object\n",
              "GARANTIA             object\n",
              "FECHA COMPRA         object\n",
              "FECHA FIN            object\n",
              "dtype: object"
            ]
          },
          "execution_count": 34,
          "metadata": {},
          "output_type": "execute_result"
        }
      ],
      "source": [
        "equipos.dtypes"
      ]
    },
    {
      "cell_type": "code",
      "execution_count": 7,
      "metadata": {},
      "outputs": [
        {
          "data": {
            "text/plain": [
              "PLACA                 object\n",
              "SUBTIPO               object\n",
              "MARCA                 object\n",
              "MODELO                object\n",
              "PANTALLA              object\n",
              "PROCESADOR            object\n",
              "GENERACIÓN            object\n",
              "MEMORIA               object\n",
              "DISCO DURO            object\n",
              "SERIAL FISICO         object\n",
              "OBSERVACIONES         object\n",
              "SERIAL BOARD          object\n",
              "ESTADO                object\n",
              "UBICACIÓN             object\n",
              "ASIGNADO A            object\n",
              "ACTA DE ENTREGA       object\n",
              "Canon                float64\n",
              "SISTEMA OPERATIVO     object\n",
              "MOVIMIENTO            object\n",
              "Comprado a            object\n",
              "Factura #             object\n",
              "Nuevo / Usado         object\n",
              "Garantia              object\n",
              "Fecha Compra          object\n",
              "Fecha Fin            float64\n",
              "dtype: object"
            ]
          },
          "execution_count": 7,
          "metadata": {},
          "output_type": "execute_result"
        }
      ],
      "source": [
        "df.dtypes"
      ]
    },
    {
      "cell_type": "code",
      "execution_count": 36,
      "metadata": {},
      "outputs": [
        {
          "name": "stdout",
          "output_type": "stream",
          "text": [
            "NULL\n",
            "None\n"
          ]
        }
      ],
      "source": [
        "cliente_codigo = safe_int(extraer_codigo_cliente(\"A-102\"))\n",
        "cliente_row = CLIENTES[CLIENTES['codigo_cliente'] == cliente_codigo]\n",
        "\n",
        "print(cliente_row.index[0] + 1 if not cliente_row.empty else \"NULL\")\n",
        "\n",
        "print(cliente_codigo)"
      ]
    },
    {
      "cell_type": "code",
      "execution_count": 38,
      "metadata": {},
      "outputs": [
        {
          "data": {
            "text/plain": [
              "Index(['PLACA', 'SUBTIPO', 'MARCA', 'MODELO', 'PANTALLA', 'PROCESADOR',\n",
              "       'GENERACIÓN', 'MEMORIA', 'DISCO DURO', 'SERIAL FISICO', 'OBSERVACIONES',\n",
              "       'SERIAL BOARD', 'ESTADO', 'UBICACIÓN', 'ASIGNADO A', 'ACTA DE ENTREGA',\n",
              "       'Canon', 'SISTEMA OPERATIVO', 'MOVIMIENTO', 'Comprado a', 'Factura #',\n",
              "       'Nuevo / Usado', 'Garantia', 'Fecha Compra', 'Fecha Fin'],\n",
              "      dtype='object')"
            ]
          },
          "execution_count": 38,
          "metadata": {},
          "output_type": "execute_result"
        }
      ],
      "source": [
        "df.columns"
      ]
    },
    {
      "cell_type": "code",
      "execution_count": 39,
      "metadata": {},
      "outputs": [
        {
          "data": {
            "text/plain": [
              "Index(['PLACA', 'SUBTIPO', 'MARCA', 'MODELO', 'PANTALLA', 'PROCESADOR',\n",
              "       'GENERACION', 'MEMORIA', 'DISCO DURO', 'SERIAL FISICO', 'OBSERVACIONES',\n",
              "       'SERIAL BOARD', 'ESTADO', 'UBICACION', 'ASIGNADO A', 'ACTA DE ENTREGA',\n",
              "       'CANON', 'SISTEMA OPERATIVO', 'MOVIMIENTO', 'PROVEEDOR', 'FACTURA #',\n",
              "       'NUEVO / USADO', 'GARANTIA', 'FECHA COMPRA', 'FECHA FIN'],\n",
              "      dtype='object')"
            ]
          },
          "execution_count": 39,
          "metadata": {},
          "output_type": "execute_result"
        }
      ],
      "source": [
        "equipos.columns"
      ]
    },
    {
      "cell_type": "code",
      "execution_count": 30,
      "metadata": {},
      "outputs": [
        {
          "name": "stdout",
          "output_type": "stream",
          "text": [
            "INSERT INTO subestado_activo (subestado, estado_padre) VALUES\n",
            "    ('ARRENDADO', 'ACTIVO'),\n",
            "    ('ASIGNADO', 'ACTIVO'),\n",
            "    ('PEND. DEV. CLIENTE', 'ACTIVO'),\n",
            "    ('PRESTADO', 'ACTIVO'),\n",
            "    ('REPARACION', 'ACTIVO'),\n",
            "    ('STOCK', 'ACTIVO'),\n",
            "    ('STOCK-PENDIENTE', 'ACTIVO'),\n",
            "    ('GARANTIA', 'ACTIVO'),\n",
            "    ('VENTA', 'OBSOLETO'),\n",
            "    ('DONACION', 'OBSOLETO'),\n",
            "    ('DAÑO', 'OBSOLETO'),\n",
            "    ('BASURA ELECTRONICA', 'RETIRADO'),\n",
            "    ('VENDIDO', 'RETIRADO'),\n",
            "    ('ROBADO', 'RETIRADO'),\n",
            "    ('PERDIDO', 'RETIRADO'),\n",
            "    ('EXTRAER REPUESTOS', 'RETIRADO');\n",
            "\n"
          ]
        }
      ],
      "source": [
        "print(subestados_activos_insert)"
      ]
    }
  ],
  "metadata": {
    "colab": {
      "provenance": []
    },
    "kernelspec": {
      "display_name": "venv",
      "language": "python",
      "name": "python3"
    },
    "language_info": {
      "codemirror_mode": {
        "name": "ipython",
        "version": 3
      },
      "file_extension": ".py",
      "mimetype": "text/x-python",
      "name": "python",
      "nbconvert_exporter": "python",
      "pygments_lexer": "ipython3",
      "version": "3.12.4"
    }
  },
  "nbformat": 4,
  "nbformat_minor": 0
}
